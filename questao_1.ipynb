{
 "cells": [
  {
   "cell_type": "code",
   "execution_count": 5,
   "id": "ab6bf73b-1b7c-4b34-aa0b-6e339eea2afc",
   "metadata": {},
   "outputs": [
    {
     "name": "stdin",
     "output_type": "stream",
     "text": [
      "Insira uma frase:  Quem parte e reparte fica com a maior parte\n",
      "Insira a palavra da frase \"Quem parte e reparte fica com a maior parte!\" que deseja substituir:  parte\n",
      "Insira a palavra pela qual deseja substituí-la:  parcela\n"
     ]
    },
    {
     "name": "stdout",
     "output_type": "stream",
     "text": [
      "Quem parcela e reparte fica com a maior parcela\n"
     ]
    }
   ],
   "source": [
    "import re\n",
    "\n",
    "frase = input(\"Insira uma frase: \")\n",
    "palavra_antiga = input(f\"Insira a palavra da frase \\\"{frase}!\\\" que deseja substituir: \")\n",
    "palavra_nova = input(\"Insira a palavra pela qual deseja substituí-la: \")\n",
    "padrao = rf\"\\b{re.escape(palavra_antiga)}\\b\"\n",
    "\n",
    "frase_invertida = frase[::-1]\n",
    "padrao_invertido = re.compile(rf\"{re.escape(palavra_antiga[::-1])}\\b\")\n",
    "frase_modificada_invertida = padrao_invertido.sub(palavra_nova[::-1], frase_invertida, count=1)\n",
    "\n",
    "resultado = frase_modificada_invertida[::-1]\n",
    "\n",
    "print(resultado)"
   ]
  },
  {
   "cell_type": "code",
   "execution_count": null,
   "id": "8d51fabb-b0e7-42db-b5e6-9a9e9db2c786",
   "metadata": {},
   "outputs": [],
   "source": []
  }
 ],
 "metadata": {
  "kernelspec": {
   "display_name": "Python 3 (ipykernel)",
   "language": "python",
   "name": "python3"
  },
  "language_info": {
   "codemirror_mode": {
    "name": "ipython",
    "version": 3
   },
   "file_extension": ".py",
   "mimetype": "text/x-python",
   "name": "python",
   "nbconvert_exporter": "python",
   "pygments_lexer": "ipython3",
   "version": "3.12.7"
  }
 },
 "nbformat": 4,
 "nbformat_minor": 5
}
