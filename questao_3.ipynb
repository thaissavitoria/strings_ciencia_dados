{
 "cells": [
  {
   "cell_type": "code",
   "execution_count": null,
   "id": "36c5bfe8-bccd-40b8-8a9a-d4b2a01be36b",
   "metadata": {},
   "outputs": [],
   "source": [
    "import re\n",
    "frase = input(\"Insira uma frase para que o programa conte as palavras:\")\n",
    "vetor_frase = re.split(r\"\\s+\", frase.strip())\n",
    "num_palavras = len(vetor_frase)\n",
    "print(f\"O texto digitado tem {num_palavras} palavras\")\n"
   ]
  }
 ],
 "metadata": {
  "kernelspec": {
   "display_name": "Python 3 (ipykernel)",
   "language": "python",
   "name": "python3"
  },
  "language_info": {
   "codemirror_mode": {
    "name": "ipython",
    "version": 3
   },
   "file_extension": ".py",
   "mimetype": "text/x-python",
   "name": "python",
   "nbconvert_exporter": "python",
   "pygments_lexer": "ipython3",
   "version": "3.12.7"
  }
 },
 "nbformat": 4,
 "nbformat_minor": 5
}
