{
 "cells": [
  {
   "cell_type": "code",
   "execution_count": 4,
   "id": "02fec8ab-1cea-4d45-9b19-13b8fcd7a992",
   "metadata": {},
   "outputs": [
    {
     "name": "stdin",
     "output_type": "stream",
     "text": [
      "Insira a primeira palavra:  roma\n",
      "Insira a segunda palavra:  Amor\n"
     ]
    },
    {
     "name": "stdout",
     "output_type": "stream",
     "text": [
      "Palíndromas!\n"
     ]
    }
   ],
   "source": [
    "palavra = input(\"Insira a primeira palavra: \").lower()\n",
    "palavra_2 = input(\"Insira a segunda palavra: \").lower()\n",
    "\n",
    "if palavra_2 == palavra[::-1]:\n",
    "    print(\"Palíndromas!\")\n",
    "else:\n",
    "    print(\"NÃO palíndromas!\")"
   ]
  },
  {
   "cell_type": "code",
   "execution_count": null,
   "id": "d68385a9-ed97-4333-b37e-55c6e0fd20fe",
   "metadata": {},
   "outputs": [],
   "source": []
  }
 ],
 "metadata": {
  "kernelspec": {
   "display_name": "Python 3 (ipykernel)",
   "language": "python",
   "name": "python3"
  },
  "language_info": {
   "codemirror_mode": {
    "name": "ipython",
    "version": 3
   },
   "file_extension": ".py",
   "mimetype": "text/x-python",
   "name": "python",
   "nbconvert_exporter": "python",
   "pygments_lexer": "ipython3",
   "version": "3.12.7"
  }
 },
 "nbformat": 4,
 "nbformat_minor": 5
}
