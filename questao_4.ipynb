{
 "cells": [
  {
   "cell_type": "code",
   "execution_count": 3,
   "id": "7a6a3fe7-5127-44e0-896c-99fe61e9b5b8",
   "metadata": {},
   "outputs": [
    {
     "name": "stdin",
     "output_type": "stream",
     "text": [
      "Insira uma frase:  era uma vez um cavalo branco\n"
     ]
    },
    {
     "name": "stdout",
     "output_type": "stream",
     "text": [
      "era#uma#vez#um#cavalo#branco\n"
     ]
    }
   ],
   "source": [
    "import re\n",
    "\n",
    "frase = input(\"Insira uma frase: \")\n",
    "frase = re.sub(\" \",\"#\", frase)\n",
    "\n",
    "print(frase)"
   ]
  },
  {
   "cell_type": "code",
   "execution_count": null,
   "id": "244c4d08-f004-463a-b6d7-65e1e95071bb",
   "metadata": {},
   "outputs": [],
   "source": []
  }
 ],
 "metadata": {
  "kernelspec": {
   "display_name": "Python 3 (ipykernel)",
   "language": "python",
   "name": "python3"
  },
  "language_info": {
   "codemirror_mode": {
    "name": "ipython",
    "version": 3
   },
   "file_extension": ".py",
   "mimetype": "text/x-python",
   "name": "python",
   "nbconvert_exporter": "python",
   "pygments_lexer": "ipython3",
   "version": "3.12.7"
  }
 },
 "nbformat": 4,
 "nbformat_minor": 5
}
