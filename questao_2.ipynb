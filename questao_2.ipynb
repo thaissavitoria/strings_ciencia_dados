{
 "cells": [
  {
   "cell_type": "code",
   "execution_count": 4,
   "id": "bbd5c98d-aa97-4109-8ddc-ad8a3b63e732",
   "metadata": {},
   "outputs": [
    {
     "name": "stdin",
     "output_type": "stream",
     "text": [
      "Insira a cadeia de DNA:  AATCTGCAC\n"
     ]
    },
    {
     "name": "stdout",
     "output_type": "stream",
     "text": [
      "TTAGACGTG\n"
     ]
    }
   ],
   "source": [
    "import re\n",
    "\n",
    "complementar={}\n",
    "complementar['t']='a'\n",
    "complementar['a']='t'\n",
    "complementar['c']='g'\n",
    "complementar['g']='c'\n",
    "\n",
    "def substitui_letras(string):\n",
    "    base = string.group()\n",
    "    return complementar[base].upper()\n",
    "\n",
    "cadeia_dna = input(\"Insira a cadeia de DNA: \")\n",
    "cadeia_dna = cadeia_dna.lower()\n",
    "try:\n",
    "    cadeia_complementar = re.sub(r'[atcg]', substitui_letras, cadeia_dna)\n",
    "    print(cadeia_complementar)\n",
    "except:\n",
    "    print(\"Você digitou uma cadeia inválida\")\n"
   ]
  },
  {
   "cell_type": "code",
   "execution_count": null,
   "id": "1d257cb8-7071-4081-8c5a-a14b1f4bc858",
   "metadata": {},
   "outputs": [],
   "source": []
  }
 ],
 "metadata": {
  "kernelspec": {
   "display_name": "Python 3 (ipykernel)",
   "language": "python",
   "name": "python3"
  },
  "language_info": {
   "codemirror_mode": {
    "name": "ipython",
    "version": 3
   },
   "file_extension": ".py",
   "mimetype": "text/x-python",
   "name": "python",
   "nbconvert_exporter": "python",
   "pygments_lexer": "ipython3",
   "version": "3.12.7"
  }
 },
 "nbformat": 4,
 "nbformat_minor": 5
}
