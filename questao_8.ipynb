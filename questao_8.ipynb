{
 "cells": [
  {
   "cell_type": "code",
   "execution_count": 7,
   "id": "479e396a-7b10-42c1-81c9-e067ff40bfa3",
   "metadata": {},
   "outputs": [
    {
     "name": "stdin",
     "output_type": "stream",
     "text": [
      "Insira sua data de nascimento: 14/04/2003\n"
     ]
    },
    {
     "name": "stdout",
     "output_type": "stream",
     "text": [
      "Você nasceu em 14 de abril de 2003\n"
     ]
    }
   ],
   "source": [
    "data=input(\"Insira sua data de nascimento:\")\n",
    "valores = data.split(\"/\")\n",
    "if len(valores)==3:\n",
    "    meses =  [\"janeiro\", \"fevereiro\", \"março\", \"abril\", \"maio\", \"junho\", \"julho\", \"agosto\", \"setembro\", \"outubro\", \"novembro\", \"dezembro\"]\n",
    "    dia = int(valores[0])\n",
    "    mes = int(valores[1])\n",
    "    ano = int(valores[2])\n",
    "    \n",
    "    mes = meses[mes-1]\n",
    "    print(f\"Você nasceu em {dia} de {mes} de {ano}\")"
   ]
  },
  {
   "cell_type": "code",
   "execution_count": null,
   "id": "ef3f7053-8d7c-41a5-ba0c-f21bb099026d",
   "metadata": {},
   "outputs": [],
   "source": []
  }
 ],
 "metadata": {
  "kernelspec": {
   "display_name": "Python 3 (ipykernel)",
   "language": "python",
   "name": "python3"
  },
  "language_info": {
   "codemirror_mode": {
    "name": "ipython",
    "version": 3
   },
   "file_extension": ".py",
   "mimetype": "text/x-python",
   "name": "python",
   "nbconvert_exporter": "python",
   "pygments_lexer": "ipython3",
   "version": "3.12.7"
  }
 },
 "nbformat": 4,
 "nbformat_minor": 5
}
