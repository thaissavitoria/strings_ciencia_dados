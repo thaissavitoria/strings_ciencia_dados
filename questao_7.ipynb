{
 "cells": [
  {
   "cell_type": "code",
   "execution_count": 2,
   "id": "e8c1b244-a8dd-496e-a4a2-391ac75402c7",
   "metadata": {},
   "outputs": [
    {
     "name": "stdin",
     "output_type": "stream",
     "text": [
      "Digite um nome:  Vanessa\n"
     ]
    },
    {
     "name": "stdout",
     "output_type": "stream",
     "text": [
      "V\n",
      "VA\n",
      "VAN\n",
      "VANE\n",
      "VANES\n",
      "VANESS\n",
      "VANESSA\n"
     ]
    }
   ],
   "source": [
    "nome = input(\"Digite um nome: \").upper()\n",
    "for i in range(1, len(nome) + 1):\n",
    "        print(nome[:i])"
   ]
  },
  {
   "cell_type": "code",
   "execution_count": null,
   "id": "897bc536-3e7e-49e5-9062-5856ebc162b7",
   "metadata": {},
   "outputs": [],
   "source": []
  }
 ],
 "metadata": {
  "kernelspec": {
   "display_name": "Python 3 (ipykernel)",
   "language": "python",
   "name": "python3"
  },
  "language_info": {
   "codemirror_mode": {
    "name": "ipython",
    "version": 3
   },
   "file_extension": ".py",
   "mimetype": "text/x-python",
   "name": "python",
   "nbconvert_exporter": "python",
   "pygments_lexer": "ipython3",
   "version": "3.12.7"
  }
 },
 "nbformat": 4,
 "nbformat_minor": 5
}
